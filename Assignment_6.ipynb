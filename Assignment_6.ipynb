{
 "cells": [
  {
   "cell_type": "code",
   "execution_count": 147,
   "id": "6d424e7b",
   "metadata": {},
   "outputs": [],
   "source": [
    "import pandas as pd\n",
    "import numpy as np\n",
    "import matplotlib.pyplot as plt\n",
    "from matplotlib import cm\n",
    "pd.options.mode.chained_assignment = None"
   ]
  },
  {
   "cell_type": "code",
   "execution_count": 114,
   "id": "5ecbb3a0",
   "metadata": {},
   "outputs": [
    {
     "name": "stderr",
     "output_type": "stream",
     "text": [
      "/var/folders/9s/v51xlz757f93sf6mwmf0fd0w0000gn/T/ipykernel_21750/3542252968.py:1: DtypeWarning:\n",
      "\n",
      "Columns (5,7) have mixed types. Specify dtype option on import or set low_memory=False.\n",
      "\n"
     ]
    }
   ],
   "source": [
    "df = pd.read_csv(\"/Users/MinhLa/Desktop/school/Analyst_Case_Study/cyclistic.csv\")"
   ]
  },
  {
   "cell_type": "code",
   "execution_count": 115,
   "id": "38eaff31",
   "metadata": {},
   "outputs": [
    {
     "data": {
      "text/plain": [
       "ride_id                object\n",
       "rideable_type          object\n",
       "started_at             object\n",
       "ended_at               object\n",
       "start_station_name     object\n",
       "start_station_id       object\n",
       "end_station_name       object\n",
       "end_station_id         object\n",
       "start_lat             float64\n",
       "start_lng             float64\n",
       "end_lat               float64\n",
       "end_lng               float64\n",
       "member_casual          object\n",
       "dtype: object"
      ]
     },
     "execution_count": 115,
     "metadata": {},
     "output_type": "execute_result"
    }
   ],
   "source": [
    "df.dtypes"
   ]
  },
  {
   "cell_type": "code",
   "execution_count": 116,
   "id": "149c1184",
   "metadata": {},
   "outputs": [
    {
     "data": {
      "text/html": [
       "<div>\n",
       "<style scoped>\n",
       "    .dataframe tbody tr th:only-of-type {\n",
       "        vertical-align: middle;\n",
       "    }\n",
       "\n",
       "    .dataframe tbody tr th {\n",
       "        vertical-align: top;\n",
       "    }\n",
       "\n",
       "    .dataframe thead th {\n",
       "        text-align: right;\n",
       "    }\n",
       "</style>\n",
       "<table border=\"1\" class=\"dataframe\">\n",
       "  <thead>\n",
       "    <tr style=\"text-align: right;\">\n",
       "      <th></th>\n",
       "      <th>ride_id</th>\n",
       "      <th>rideable_type</th>\n",
       "      <th>started_at</th>\n",
       "      <th>ended_at</th>\n",
       "      <th>start_station_name</th>\n",
       "      <th>start_station_id</th>\n",
       "      <th>end_station_name</th>\n",
       "      <th>end_station_id</th>\n",
       "      <th>start_lat</th>\n",
       "      <th>start_lng</th>\n",
       "      <th>end_lat</th>\n",
       "      <th>end_lng</th>\n",
       "      <th>member_casual</th>\n",
       "    </tr>\n",
       "  </thead>\n",
       "  <tbody>\n",
       "    <tr>\n",
       "      <th>0</th>\n",
       "      <td>A847FADBBC638E45</td>\n",
       "      <td>docked_bike</td>\n",
       "      <td>2020-04-26 17:45:14</td>\n",
       "      <td>2020-04-26 18:12:03</td>\n",
       "      <td>Eckhart Park</td>\n",
       "      <td>86</td>\n",
       "      <td>Lincoln Ave &amp; Diversey Pkwy</td>\n",
       "      <td>152.0</td>\n",
       "      <td>41.8964</td>\n",
       "      <td>-87.6610</td>\n",
       "      <td>41.9322</td>\n",
       "      <td>-87.6586</td>\n",
       "      <td>member</td>\n",
       "    </tr>\n",
       "    <tr>\n",
       "      <th>1</th>\n",
       "      <td>5405B80E996FF60D</td>\n",
       "      <td>docked_bike</td>\n",
       "      <td>2020-04-17 17:08:54</td>\n",
       "      <td>2020-04-17 17:17:03</td>\n",
       "      <td>Drake Ave &amp; Fullerton Ave</td>\n",
       "      <td>503</td>\n",
       "      <td>Kosciuszko Park</td>\n",
       "      <td>499.0</td>\n",
       "      <td>41.9244</td>\n",
       "      <td>-87.7154</td>\n",
       "      <td>41.9306</td>\n",
       "      <td>-87.7238</td>\n",
       "      <td>member</td>\n",
       "    </tr>\n",
       "    <tr>\n",
       "      <th>2</th>\n",
       "      <td>5DD24A79A4E006F4</td>\n",
       "      <td>docked_bike</td>\n",
       "      <td>2020-04-01 17:54:13</td>\n",
       "      <td>2020-04-01 18:08:36</td>\n",
       "      <td>McClurg Ct &amp; Erie St</td>\n",
       "      <td>142</td>\n",
       "      <td>Indiana Ave &amp; Roosevelt Rd</td>\n",
       "      <td>255.0</td>\n",
       "      <td>41.8945</td>\n",
       "      <td>-87.6179</td>\n",
       "      <td>41.8679</td>\n",
       "      <td>-87.6230</td>\n",
       "      <td>member</td>\n",
       "    </tr>\n",
       "    <tr>\n",
       "      <th>3</th>\n",
       "      <td>2A59BBDF5CDBA725</td>\n",
       "      <td>docked_bike</td>\n",
       "      <td>2020-04-07 12:50:19</td>\n",
       "      <td>2020-04-07 13:02:31</td>\n",
       "      <td>California Ave &amp; Division St</td>\n",
       "      <td>216</td>\n",
       "      <td>Wood St &amp; Augusta Blvd</td>\n",
       "      <td>657.0</td>\n",
       "      <td>41.9030</td>\n",
       "      <td>-87.6975</td>\n",
       "      <td>41.8992</td>\n",
       "      <td>-87.6722</td>\n",
       "      <td>member</td>\n",
       "    </tr>\n",
       "    <tr>\n",
       "      <th>4</th>\n",
       "      <td>27AD306C119C6158</td>\n",
       "      <td>docked_bike</td>\n",
       "      <td>2020-04-18 10:22:59</td>\n",
       "      <td>2020-04-18 11:15:54</td>\n",
       "      <td>Rush St &amp; Hubbard St</td>\n",
       "      <td>125</td>\n",
       "      <td>Sheridan Rd &amp; Lawrence Ave</td>\n",
       "      <td>323.0</td>\n",
       "      <td>41.8902</td>\n",
       "      <td>-87.6262</td>\n",
       "      <td>41.9695</td>\n",
       "      <td>-87.6547</td>\n",
       "      <td>casual</td>\n",
       "    </tr>\n",
       "  </tbody>\n",
       "</table>\n",
       "</div>"
      ],
      "text/plain": [
       "            ride_id rideable_type           started_at             ended_at  \\\n",
       "0  A847FADBBC638E45   docked_bike  2020-04-26 17:45:14  2020-04-26 18:12:03   \n",
       "1  5405B80E996FF60D   docked_bike  2020-04-17 17:08:54  2020-04-17 17:17:03   \n",
       "2  5DD24A79A4E006F4   docked_bike  2020-04-01 17:54:13  2020-04-01 18:08:36   \n",
       "3  2A59BBDF5CDBA725   docked_bike  2020-04-07 12:50:19  2020-04-07 13:02:31   \n",
       "4  27AD306C119C6158   docked_bike  2020-04-18 10:22:59  2020-04-18 11:15:54   \n",
       "\n",
       "             start_station_name start_station_id             end_station_name  \\\n",
       "0                  Eckhart Park               86  Lincoln Ave & Diversey Pkwy   \n",
       "1     Drake Ave & Fullerton Ave              503              Kosciuszko Park   \n",
       "2          McClurg Ct & Erie St              142   Indiana Ave & Roosevelt Rd   \n",
       "3  California Ave & Division St              216       Wood St & Augusta Blvd   \n",
       "4          Rush St & Hubbard St              125   Sheridan Rd & Lawrence Ave   \n",
       "\n",
       "  end_station_id  start_lat  start_lng  end_lat  end_lng member_casual  \n",
       "0          152.0    41.8964   -87.6610  41.9322 -87.6586        member  \n",
       "1          499.0    41.9244   -87.7154  41.9306 -87.7238        member  \n",
       "2          255.0    41.8945   -87.6179  41.8679 -87.6230        member  \n",
       "3          657.0    41.9030   -87.6975  41.8992 -87.6722        member  \n",
       "4          323.0    41.8902   -87.6262  41.9695 -87.6547        casual  "
      ]
     },
     "execution_count": 116,
     "metadata": {},
     "output_type": "execute_result"
    }
   ],
   "source": [
    "df.head(5)"
   ]
  },
  {
   "cell_type": "code",
   "execution_count": 117,
   "id": "5c862a84",
   "metadata": {},
   "outputs": [
    {
     "data": {
      "text/plain": [
       "array(['docked_bike', 'electric_bike', 'classic_bike'], dtype=object)"
      ]
     },
     "execution_count": 117,
     "metadata": {},
     "output_type": "execute_result"
    }
   ],
   "source": [
    "df[\"rideable_type\"].unique()"
   ]
  },
  {
   "cell_type": "code",
   "execution_count": 118,
   "id": "6abdcf9d",
   "metadata": {},
   "outputs": [
    {
     "data": {
      "text/plain": [
       "array(['member', 'casual'], dtype=object)"
      ]
     },
     "execution_count": 118,
     "metadata": {},
     "output_type": "execute_result"
    }
   ],
   "source": [
    "df[\"member_casual\"].unique()"
   ]
  },
  {
   "cell_type": "code",
   "execution_count": 119,
   "id": "32b0843d",
   "metadata": {},
   "outputs": [
    {
     "data": {
      "text/plain": [
       "Index(['ride_id', 'rideable_type', 'started_at', 'ended_at',\n",
       "       'start_station_name', 'start_station_id', 'end_station_name',\n",
       "       'end_station_id', 'start_lat', 'start_lng', 'end_lat', 'end_lng',\n",
       "       'member_casual'],\n",
       "      dtype='object')"
      ]
     },
     "execution_count": 119,
     "metadata": {},
     "output_type": "execute_result"
    }
   ],
   "source": [
    "df.columns"
   ]
  },
  {
   "cell_type": "code",
   "execution_count": 120,
   "id": "a8b0e0fd",
   "metadata": {},
   "outputs": [],
   "source": [
    "df[\"ended_at\"] = pd.to_datetime(df[\"ended_at\"])\n",
    "df[\"started_at\"] = pd.to_datetime(df[\"started_at\"])"
   ]
  },
  {
   "cell_type": "code",
   "execution_count": 121,
   "id": "eb531a9f",
   "metadata": {},
   "outputs": [],
   "source": [
    "#df['duration'] = (df['ended_at'] - df['started_at']).dt.total_seconds()#\n",
    "\n",
    "df[\"duration\"] = (df[\"ended_at\"] - df[\"started_at\"])\n",
    "df[\"duration in minutes\"] = df[\"duration\"]/np.timedelta64(1,\"D\")*24*60"
   ]
  },
  {
   "cell_type": "code",
   "execution_count": 122,
   "id": "cde61dba",
   "metadata": {},
   "outputs": [],
   "source": [
    "for x in ['duration in minutes']:\n",
    "    q75,q25 = np.percentile(df.loc[:,x],[75,25])\n",
    "    intr_qr = q75-q25\n",
    " \n",
    "    max = q75+(1.5*intr_qr)\n",
    "    min = 0\n",
    " \n",
    "    df.loc[df[x] < min,x] = np.nan\n",
    "    df.loc[df[x] > max,x] = np.nan"
   ]
  },
  {
   "cell_type": "code",
   "execution_count": 123,
   "id": "649693fb",
   "metadata": {},
   "outputs": [],
   "source": [
    "df = df.dropna()"
   ]
  },
  {
   "cell_type": "code",
   "execution_count": 124,
   "id": "975645f8",
   "metadata": {},
   "outputs": [],
   "source": [
    "df[\"Started_DayInWeek\"] = pd.DatetimeIndex(df[\"started_at\"]).dayofweek\n",
    "df[\"Started_Month\"] = pd.DatetimeIndex(df[\"started_at\"]).month\n",
    "df[\"Started_Year\"] = pd.DatetimeIndex(df[\"started_at\"]).year"
   ]
  },
  {
   "cell_type": "code",
   "execution_count": 125,
   "id": "b1e56ef5",
   "metadata": {},
   "outputs": [],
   "source": [
    "df[\"Started_DayInWeek\"] = df[\"Started_DayInWeek\"].replace({0 : \"Monday\",\n",
    "                                                 1 : \"Tuesday\",\n",
    "                                                 2 : \"Wednesday\",\n",
    "                                                 3 : \"Thursday\",\n",
    "                                                 4 : \"Friday\",\n",
    "                                                 5 : \"Saturday\",\n",
    "                                                 6 : \"Sunday\"})\n",
    "df[\"Started_DayInWeek\"] = pd.Categorical(df[\"Started_DayInWeek\"], categories = [\n",
    "    \"Monday\", \"Tuesday\", \"Wednesday\", \"Thursday\", \"Friday\", \"Saturday\", \"Sunday\"], ordered = True)"
   ]
  },
  {
   "cell_type": "code",
   "execution_count": 126,
   "id": "9cdd9590",
   "metadata": {},
   "outputs": [],
   "source": [
    "df[\"End_DayInWeek\"] = pd.DatetimeIndex(df[\"ended_at\"]).dayofweek\n",
    "df[\"End_Month\"] = pd.DatetimeIndex(df[\"ended_at\"]).month\n",
    "df[\"End_Year\"] = pd.DatetimeIndex(df[\"ended_at\"]).year"
   ]
  },
  {
   "cell_type": "code",
   "execution_count": 127,
   "id": "50cf8d63",
   "metadata": {},
   "outputs": [],
   "source": [
    "df[\"End_DayInWeek\"] = df[\"End_DayInWeek\"].replace({0 : \"Monday\",\n",
    "                                                 1 : \"Tuesday\",\n",
    "                                                 2 : \"Wednesday\",\n",
    "                                                 3 : \"Thursday\",\n",
    "                                                 4 : \"Friday\",\n",
    "                                                 5 : \"Saturday\",\n",
    "                                                 6 : \"Sunday\"})\n",
    "df[\"End_DayInWeek\"] = pd.Categorical(df[\"End_DayInWeek\"], categories = [\n",
    "    \"Monday\", \"Tuesday\", \"Wednesday\", \"Thursday\", \"Friday\", \"Saturday\", \"Sunday\"], ordered = True)"
   ]
  },
  {
   "cell_type": "code",
   "execution_count": 128,
   "id": "1691f2a2",
   "metadata": {},
   "outputs": [
    {
     "data": {
      "text/html": [
       "<div>\n",
       "<style scoped>\n",
       "    .dataframe tbody tr th:only-of-type {\n",
       "        vertical-align: middle;\n",
       "    }\n",
       "\n",
       "    .dataframe tbody tr th {\n",
       "        vertical-align: top;\n",
       "    }\n",
       "\n",
       "    .dataframe thead th {\n",
       "        text-align: right;\n",
       "    }\n",
       "</style>\n",
       "<table border=\"1\" class=\"dataframe\">\n",
       "  <thead>\n",
       "    <tr style=\"text-align: right;\">\n",
       "      <th></th>\n",
       "      <th>ride_id</th>\n",
       "      <th>rideable_type</th>\n",
       "      <th>started_at</th>\n",
       "      <th>ended_at</th>\n",
       "      <th>start_station_name</th>\n",
       "      <th>start_station_id</th>\n",
       "      <th>end_station_name</th>\n",
       "      <th>end_station_id</th>\n",
       "      <th>start_lat</th>\n",
       "      <th>start_lng</th>\n",
       "      <th>...</th>\n",
       "      <th>end_lng</th>\n",
       "      <th>member_casual</th>\n",
       "      <th>duration</th>\n",
       "      <th>duration in minutes</th>\n",
       "      <th>Started_DayInWeek</th>\n",
       "      <th>Started_Month</th>\n",
       "      <th>Started_Year</th>\n",
       "      <th>End_DayInWeek</th>\n",
       "      <th>End_Month</th>\n",
       "      <th>End_Year</th>\n",
       "    </tr>\n",
       "  </thead>\n",
       "  <tbody>\n",
       "    <tr>\n",
       "      <th>0</th>\n",
       "      <td>A847FADBBC638E45</td>\n",
       "      <td>docked_bike</td>\n",
       "      <td>2020-04-26 17:45:14</td>\n",
       "      <td>2020-04-26 18:12:03</td>\n",
       "      <td>Eckhart Park</td>\n",
       "      <td>86</td>\n",
       "      <td>Lincoln Ave &amp; Diversey Pkwy</td>\n",
       "      <td>152.0</td>\n",
       "      <td>41.8964</td>\n",
       "      <td>-87.6610</td>\n",
       "      <td>...</td>\n",
       "      <td>-87.6586</td>\n",
       "      <td>member</td>\n",
       "      <td>0 days 00:26:49</td>\n",
       "      <td>26.816667</td>\n",
       "      <td>Sunday</td>\n",
       "      <td>4</td>\n",
       "      <td>2020</td>\n",
       "      <td>Sunday</td>\n",
       "      <td>4</td>\n",
       "      <td>2020</td>\n",
       "    </tr>\n",
       "    <tr>\n",
       "      <th>1</th>\n",
       "      <td>5405B80E996FF60D</td>\n",
       "      <td>docked_bike</td>\n",
       "      <td>2020-04-17 17:08:54</td>\n",
       "      <td>2020-04-17 17:17:03</td>\n",
       "      <td>Drake Ave &amp; Fullerton Ave</td>\n",
       "      <td>503</td>\n",
       "      <td>Kosciuszko Park</td>\n",
       "      <td>499.0</td>\n",
       "      <td>41.9244</td>\n",
       "      <td>-87.7154</td>\n",
       "      <td>...</td>\n",
       "      <td>-87.7238</td>\n",
       "      <td>member</td>\n",
       "      <td>0 days 00:08:09</td>\n",
       "      <td>8.150000</td>\n",
       "      <td>Friday</td>\n",
       "      <td>4</td>\n",
       "      <td>2020</td>\n",
       "      <td>Friday</td>\n",
       "      <td>4</td>\n",
       "      <td>2020</td>\n",
       "    </tr>\n",
       "    <tr>\n",
       "      <th>2</th>\n",
       "      <td>5DD24A79A4E006F4</td>\n",
       "      <td>docked_bike</td>\n",
       "      <td>2020-04-01 17:54:13</td>\n",
       "      <td>2020-04-01 18:08:36</td>\n",
       "      <td>McClurg Ct &amp; Erie St</td>\n",
       "      <td>142</td>\n",
       "      <td>Indiana Ave &amp; Roosevelt Rd</td>\n",
       "      <td>255.0</td>\n",
       "      <td>41.8945</td>\n",
       "      <td>-87.6179</td>\n",
       "      <td>...</td>\n",
       "      <td>-87.6230</td>\n",
       "      <td>member</td>\n",
       "      <td>0 days 00:14:23</td>\n",
       "      <td>14.383333</td>\n",
       "      <td>Wednesday</td>\n",
       "      <td>4</td>\n",
       "      <td>2020</td>\n",
       "      <td>Wednesday</td>\n",
       "      <td>4</td>\n",
       "      <td>2020</td>\n",
       "    </tr>\n",
       "    <tr>\n",
       "      <th>3</th>\n",
       "      <td>2A59BBDF5CDBA725</td>\n",
       "      <td>docked_bike</td>\n",
       "      <td>2020-04-07 12:50:19</td>\n",
       "      <td>2020-04-07 13:02:31</td>\n",
       "      <td>California Ave &amp; Division St</td>\n",
       "      <td>216</td>\n",
       "      <td>Wood St &amp; Augusta Blvd</td>\n",
       "      <td>657.0</td>\n",
       "      <td>41.9030</td>\n",
       "      <td>-87.6975</td>\n",
       "      <td>...</td>\n",
       "      <td>-87.6722</td>\n",
       "      <td>member</td>\n",
       "      <td>0 days 00:12:12</td>\n",
       "      <td>12.200000</td>\n",
       "      <td>Tuesday</td>\n",
       "      <td>4</td>\n",
       "      <td>2020</td>\n",
       "      <td>Tuesday</td>\n",
       "      <td>4</td>\n",
       "      <td>2020</td>\n",
       "    </tr>\n",
       "    <tr>\n",
       "      <th>4</th>\n",
       "      <td>27AD306C119C6158</td>\n",
       "      <td>docked_bike</td>\n",
       "      <td>2020-04-18 10:22:59</td>\n",
       "      <td>2020-04-18 11:15:54</td>\n",
       "      <td>Rush St &amp; Hubbard St</td>\n",
       "      <td>125</td>\n",
       "      <td>Sheridan Rd &amp; Lawrence Ave</td>\n",
       "      <td>323.0</td>\n",
       "      <td>41.8902</td>\n",
       "      <td>-87.6262</td>\n",
       "      <td>...</td>\n",
       "      <td>-87.6547</td>\n",
       "      <td>casual</td>\n",
       "      <td>0 days 00:52:55</td>\n",
       "      <td>52.916667</td>\n",
       "      <td>Saturday</td>\n",
       "      <td>4</td>\n",
       "      <td>2020</td>\n",
       "      <td>Saturday</td>\n",
       "      <td>4</td>\n",
       "      <td>2020</td>\n",
       "    </tr>\n",
       "  </tbody>\n",
       "</table>\n",
       "<p>5 rows × 21 columns</p>\n",
       "</div>"
      ],
      "text/plain": [
       "            ride_id rideable_type          started_at            ended_at  \\\n",
       "0  A847FADBBC638E45   docked_bike 2020-04-26 17:45:14 2020-04-26 18:12:03   \n",
       "1  5405B80E996FF60D   docked_bike 2020-04-17 17:08:54 2020-04-17 17:17:03   \n",
       "2  5DD24A79A4E006F4   docked_bike 2020-04-01 17:54:13 2020-04-01 18:08:36   \n",
       "3  2A59BBDF5CDBA725   docked_bike 2020-04-07 12:50:19 2020-04-07 13:02:31   \n",
       "4  27AD306C119C6158   docked_bike 2020-04-18 10:22:59 2020-04-18 11:15:54   \n",
       "\n",
       "             start_station_name start_station_id             end_station_name  \\\n",
       "0                  Eckhart Park               86  Lincoln Ave & Diversey Pkwy   \n",
       "1     Drake Ave & Fullerton Ave              503              Kosciuszko Park   \n",
       "2          McClurg Ct & Erie St              142   Indiana Ave & Roosevelt Rd   \n",
       "3  California Ave & Division St              216       Wood St & Augusta Blvd   \n",
       "4          Rush St & Hubbard St              125   Sheridan Rd & Lawrence Ave   \n",
       "\n",
       "  end_station_id  start_lat  start_lng  ...  end_lng  member_casual  \\\n",
       "0          152.0    41.8964   -87.6610  ... -87.6586         member   \n",
       "1          499.0    41.9244   -87.7154  ... -87.7238         member   \n",
       "2          255.0    41.8945   -87.6179  ... -87.6230         member   \n",
       "3          657.0    41.9030   -87.6975  ... -87.6722         member   \n",
       "4          323.0    41.8902   -87.6262  ... -87.6547         casual   \n",
       "\n",
       "         duration duration in minutes  Started_DayInWeek Started_Month  \\\n",
       "0 0 days 00:26:49           26.816667             Sunday             4   \n",
       "1 0 days 00:08:09            8.150000             Friday             4   \n",
       "2 0 days 00:14:23           14.383333          Wednesday             4   \n",
       "3 0 days 00:12:12           12.200000            Tuesday             4   \n",
       "4 0 days 00:52:55           52.916667           Saturday             4   \n",
       "\n",
       "   Started_Year  End_DayInWeek End_Month  End_Year  \n",
       "0          2020         Sunday         4      2020  \n",
       "1          2020         Friday         4      2020  \n",
       "2          2020      Wednesday         4      2020  \n",
       "3          2020        Tuesday         4      2020  \n",
       "4          2020       Saturday         4      2020  \n",
       "\n",
       "[5 rows x 21 columns]"
      ]
     },
     "execution_count": 128,
     "metadata": {},
     "output_type": "execute_result"
    }
   ],
   "source": [
    "df.head(5)"
   ]
  },
  {
   "cell_type": "code",
   "execution_count": 129,
   "id": "bf3c4faa",
   "metadata": {},
   "outputs": [
    {
     "data": {
      "image/png": "[encoded data removed]",
      "text/plain": [
       "<Figure size 432x288 with 1 Axes>"
      ]
     },
     "metadata": {
      "needs_background": "light"
     },
     "output_type": "display_data"
    }
   ],
   "source": [
    "df[\"member_casual\"].value_counts().plot.bar(color = \"cadetblue\")\n",
    "plt.title(\"Counts of Member Type\")\n",
    "plt.xlabel(\"Member Tyoe\")\n",
    "plt.ylabel(\"Counts\")\n",
    "plt.xticks(rotation = 0)\n",
    "plt.axis(ymin=0,ymax=2300000)\n",
    "plt.show()"
   ]
  },
  {
   "cell_type": "code",
   "execution_count": 155,
   "id": "c4453901",
   "metadata": {},
   "outputs": [
    {
     "data": {
      "image/png": "[encoded data removed]",
      "text/plain": [
       "<Figure size 1080x432 with 2 Axes>"
      ]
     },
     "metadata": {
      "needs_background": "light"
     },
     "output_type": "display_data"
    }
   ],
   "source": [
    "fig, axes = plt.subplots(\n",
    "                     ncols=2,\n",
    "                     nrows=1,\n",
    "                     figsize=(15, 6))\n",
    "fig.suptitle(\"How Casual and Member Use Bikes During Day Of The Week\")\n",
    "ax1, ax2 = axes.flatten()\n",
    "df[df[\"member_casual\"] == \"member\"][\"Started_DayInWeek\"].value_counts().sort_index().plot(ax = ax1, kind = \"bar\", title = \"Member\", ylabel = \"Counts\", width=0.5,color = \"green\")\n",
    "df[df[\"member_casual\"] == \"casual\"][\"Started_DayInWeek\"].value_counts().sort_index().plot(ax = ax2, kind = \"bar\", title = \"Casual Member\", width=0.5,color = \"green\")\n",
    "\n",
    "ax1.axis(ymin=0,ymax=400000)\n",
    "ax1.axis(xmin=-0.5,xmax=7)\n",
    "for tick in ax1.get_xticklabels():\n",
    "    tick.set_rotation(45)\n",
    "\n",
    "ax2.axis(ymin=0,ymax=400000)\n",
    "ax2.axis(xmin=-0.5,xmax=7)\n",
    "for tick in ax2.get_xticklabels():\n",
    "    tick.set_rotation(45)"
   ]
  },
  {
   "cell_type": "code",
   "execution_count": 197,
   "id": "6d6e611c",
   "metadata": {},
   "outputs": [
    {
     "name": "stdout",
     "output_type": "stream",
     "text": [
      "6.566666666666667 11.449999999999998 19.75\n"
     ]
    }
   ],
   "source": [
    "print (quant_25, quant_50, quant_75)"
   ]
  },
  {
   "cell_type": "code",
   "execution_count": 200,
   "id": "fac4ab2b",
   "metadata": {
    "scrolled": true
   },
   "outputs": [
    {
     "data": {
      "text/plain": [
       "Text(0.5, 1.0, 'Duration In Minutes of Member')"
      ]
     },
     "execution_count": 200,
     "metadata": {},
     "output_type": "execute_result"
    },
    {
     "data": {
      "image/png": "[encoded data removed]",
      "text/plain": [
       "<Figure size 720x504 with 1 Axes>"
      ]
     },
     "metadata": {
      "needs_background": "light"
     },
     "output_type": "display_data"
    }
   ],
   "source": [
    "fig, ax = plt.subplots(figsize = (10,7))\n",
    "\n",
    "df[df[\"member_casual\"] == \"member\"][\"duration in minutes\"].plot(kind = \"hist\", bins=range(50), alpha = 0.65)\n",
    "quant_25, quant_50, quant_75 = df[df[\"member_casual\"] == \"member\"][\"duration in minutes\"].quantile(0.25), df[df[\"member_casual\"] == \"member\"][\"duration in minutes\"].quantile(0.5), df[df[\"member_casual\"] == \"member\"][\"duration in minutes\"].quantile(0.75)\n",
    "quants = [[quant_25, 0.8, 0.26], [quant_50, 1, 0.36],  [quant_75, 0.8, 0.46]]\n",
    "for i in quants:\n",
    "    ax.axvline(i[0], alpha = i[1], ymax = i[2], linestyle = \":\", color = \"red\")\n",
    "    \n",
    "\n",
    "ax.text(quant_25-1.5, 30000,\"25th\", size = 15, alpha = 0.85)\n",
    "ax.text(quant_50-1.5, 43000, \"50th\", size = 15, alpha = 1)\n",
    "ax.text(quant_75-1.5, 55000, \"75th\", size = 15, alpha = 0.85)\n",
    "\n",
    "\n",
    "ax.set_xlabel(\"Duration In Minutes\")\n",
    "ax.set_title(\"Duration In Minutes of Member\", pad = 10)"
   ]
  },
  {
   "cell_type": "code",
   "execution_count": 203,
   "id": "302e841e",
   "metadata": {},
   "outputs": [
    {
     "data": {
      "text/plain": [
       "Text(0.5, 1.0, 'Duration In Minutes of Casual Member')"
      ]
     },
     "execution_count": 203,
     "metadata": {},
     "output_type": "execute_result"
    },
    {
     "data": {
      "image/png": "[encoded data removed]",
      "text/plain": [
       "<Figure size 720x504 with 1 Axes>"
      ]
     },
     "metadata": {
      "needs_background": "light"
     },
     "output_type": "display_data"
    }
   ],
   "source": [
    "fig, ax = plt.subplots(figsize = (10,7))\n",
    "\n",
    "df[df[\"member_casual\"] == \"casual\"][\"duration in minutes\"].plot(kind = \"hist\", bins=range(50), alpha = 0.65)\n",
    "quant_25, quant_50, quant_75 = df[df[\"member_casual\"] == \"member\"][\"duration in minutes\"].quantile(0.25), df[df[\"member_casual\"] == \"member\"][\"duration in minutes\"].quantile(0.5), df[df[\"member_casual\"] == \"member\"][\"duration in minutes\"].quantile(0.75)\n",
    "quants = [[quant_25, 0.8, 0.26], [quant_50, 1, 0.36],  [quant_75, 0.8, 0.46]]\n",
    "for i in quants:\n",
    "    ax.axvline(i[0], alpha = i[1], ymax = i[2], linestyle = \":\", color = \"red\")\n",
    "    \n",
    "\n",
    "ax.text(quant_25-1.5, 12000,\"25th\", size = 15, alpha = 0.85)\n",
    "ax.text(quant_50-1.5, 17000, \"50th\", size = 15, alpha = 1)\n",
    "ax.text(quant_75-1.5, 21000, \"75th\", size = 15, alpha = 0.85)\n",
    "\n",
    "ax.set_xlabel(\"Duration In Minutes\")\n",
    "ax.set_title(\"Duration In Minutes of Casual Member\", pad = 10)"
   ]
  },
  {
   "cell_type": "code",
   "execution_count": 151,
   "id": "e30378de",
   "metadata": {
    "scrolled": true
   },
   "outputs": [
    {
     "data": {
      "text/plain": [
       "member    1913733\n",
       "casual    1110326\n",
       "Name: member_casual, dtype: int64"
      ]
     },
     "execution_count": 151,
     "metadata": {},
     "output_type": "execute_result"
    }
   ],
   "source": [
    "df[\"member_casual\"].value_counts()"
   ]
  },
  {
   "cell_type": "code",
   "execution_count": 152,
   "id": "7ad264cd",
   "metadata": {},
   "outputs": [
    {
     "data": {
      "text/plain": [
       "0.5801885633993875"
      ]
     },
     "execution_count": 152,
     "metadata": {},
     "output_type": "execute_result"
    }
   ],
   "source": [
    "1110326/1913733"
   ]
  },
  {
   "cell_type": "markdown",
   "id": "356c0ec1",
   "metadata": {},
   "source": [
    "<h2> How Casual and Member Ride Differently?"
   ]
  },
  {
   "cell_type": "markdown",
   "id": "86ad6182",
   "metadata": {},
   "source": [
    "According to the data, the company has a total of 1110326 casual member who are the people that is aware of the service that the company is offering. But, they are not a member of the company. Our goal here is to convert Casual Member into the Actual Member of our company, which will directly help improving the revenue. According to the graph, \"How Casual and Member Use Bikes During Day Of The Week,\" we can clearly see that Member uses our bikes through the week from Monday to Sunday. It seems to distributed evenly. On the other hands, Casual Member most likely to use our service on the weekend as the graph clearly show two of highest columns are on Saturday and Sunday. One of the common facts that both the Member and Casual Member share together is that 75% of the trips are less than 20 minutes, according to the charts, \"Duration In Minutes of Casual Member\" and \"Duration In Minutes of Member.\" Based on these 2 facts, what we can do is to target our Potential group, which are the Casual Member who use our service on the weekend and less than 20 minutes. We can use promotion to encourage this group to become our Member. An"
   ]
  }
 ],
 "metadata": {
  "kernelspec": {
   "display_name": "Python 3 (ipykernel)",
   "language": "python",
   "name": "python3"
  },
  "language_info": {
   "codemirror_mode": {
    "name": "ipython",
    "version": 3
   },
   "file_extension": ".py",
   "mimetype": "text/x-python",
   "name": "python",
   "nbconvert_exporter": "python",
   "pygments_lexer": "ipython3",
   "version": "3.9.12"
  }
 },
 "nbformat": 4,
 "nbformat_minor": 5
}
